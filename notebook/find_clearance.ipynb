{
 "cells": [
  {
   "cell_type": "code",
   "execution_count": 41,
   "metadata": {},
   "outputs": [],
   "source": [
    "import numpy as np\n",
    "import matplotlib.pyplot as plt\n",
    "import cv2\n",
    "import sys"
   ]
  },
  {
   "cell_type": "code",
   "execution_count": 42,
   "metadata": {},
   "outputs": [
    {
     "data": {
      "text/plain": [
       "<matplotlib.image.AxesImage at 0x1bb114f04e0>"
      ]
     },
     "execution_count": 42,
     "metadata": {},
     "output_type": "execute_result"
    },
    {
     "data": {
      "image/png": "[encoded data removed]",
      "text/plain": [
       "<Figure size 432x288 with 1 Axes>"
      ]
     },
     "metadata": {
      "needs_background": "light"
     },
     "output_type": "display_data"
    }
   ],
   "source": [
    "input_file_1 = np.loadtxt('input/human_corridor_0.txt') #read content from input file\n",
    "img = input_file_1\n",
    "plt.rcParams['image.cmap'] = 'gray'   # Necessary to override default matplot behaviour\n",
    "plt.imshow(img)"
   ]
  },
  {
   "cell_type": "code",
   "execution_count": 46,
   "metadata": {},
   "outputs": [],
   "source": [
    "def auto_canny(image, sigma=0.33):\n",
    "    # compute the median of the single channel pixel intensities\n",
    "    v = np.median(image)\n",
    "    # apply automatic Canny edge detection using the computed median\n",
    "    lower = int(max(0, (1.0 - sigma) * v))\n",
    "    upper = int(min(255, (1.0 + sigma) * v))\n",
    "    edged = cv2.Canny(image, lower, upper)\n",
    "    # return the edged image\n",
    "    return edged\n",
    "\n",
    "def denoise(image,lower,upper):\n",
    "    drawing = np.zeros((image.shape[0], image.shape[1]), dtype=np.uint8)\n",
    "    for i in range(image.shape[0]):\n",
    "        for j in range(image.shape[1]):\n",
    "            if (image[i,j] < lower):\n",
    "                drawing[i,j] = 0\n",
    "            elif(image[i,j] > upper):\n",
    "                drawing[i,j] = 255\n",
    "            else:\n",
    "                drawing[i,j]=image[i,j]\n",
    "    return drawing"
   ]
  },
  {
   "cell_type": "code",
   "execution_count": 60,
   "metadata": {},
   "outputs": [],
   "source": [
    "def find_clearance(path):\n",
    "    input_file= np.loadtxt(path) #read content from input file\n",
    "    img = input_file\n",
    "    # plt.rcParams['image.cmap'] = 'gray'   # Necessary to override default matplot behaviour\n",
    "    # plt.imshow(img)\n",
    "    \n",
    "    drawing = denoise(img,1,4)        \n",
    "    # plt.imshow(drawing)\n",
    "    # plt.show()\n",
    "\n",
    "    img1  = auto_canny(cv2.GaussianBlur(drawing, (5, 5), 0))\n",
    "    img1  = cv2.dilate(img1, None, iterations=2)\n",
    "    img1  = cv2.erode(img1, None, iterations=2)\n",
    "    cropped = np.zeros((img.shape[0], img.shape[1]), dtype=np.uint8)\n",
    "    cropped[30:108,60:120]=img1[30:108,60:120]# get the interested region\n",
    "    \n",
    "    img2, contours, hierarchy = cv2.findContours(cropped, cv2.RETR_TREE, cv2.CHAIN_APPROX_SIMPLE)\n",
    "    contours = sorted(contours, key = cv2.contourArea, reverse = True)[:1]\n",
    "    contours_poly = [None]*len(contours)\n",
    "    boundRect = [None]*len(contours)\n",
    "    for i, c in enumerate(contours):\n",
    "        contours_poly[i] = cv2.approxPolyDP(c, 3, True)\n",
    "        boundRect[i] = cv2.boundingRect(contours_poly[i])\n",
    "        \n",
    "    left = boundRect[0][0]-60\n",
    "    right = 120-(boundRect[0][0]+boundRect[0][2])\n",
    "    print(\"left\",left*1.5/60) if (left > right) else print(\"right\",right*1.5/60)\n",
    "\n",
    "    # cv2.imwrite('output.png',input_file_1)\n",
    "    # image = cv2.imread('output.png')\n",
    "    # for i in range(len(contours)):\n",
    "    #     color = (0, 255, 125)\n",
    "    #     cv2.rectangle(image, (int(boundRect[i][0]), int(boundRect[i][1])), \\\n",
    "    #       (int(boundRect[i][0]+boundRect[i][2]), int(boundRect[i][1]+boundRect[i][3])), color, 1)\n",
    "    # plt.imshow(image)\n",
    "    # plt.show()\n",
    "    "
   ]
  },
  {
   "cell_type": "code",
   "execution_count": 61,
   "metadata": {},
   "outputs": [
    {
     "name": "stdout",
     "output_type": "stream",
     "text": [
      "(90, 37, 24, 71)\n",
      "left 0.75\n"
     ]
    }
   ],
   "source": [
    "find_clearance('input/human_corridor_0.txt')"
   ]
  },
  {
   "cell_type": "code",
   "execution_count": 51,
   "metadata": {},
   "outputs": [
    {
     "name": "stdout",
     "output_type": "stream",
     "text": [
      "right 0.55\n"
     ]
    }
   ],
   "source": [
    "find_clearance('input/human_corridor_1.txt')"
   ]
  },
  {
   "cell_type": "code",
   "execution_count": 52,
   "metadata": {},
   "outputs": [
    {
     "name": "stdout",
     "output_type": "stream",
     "text": [
      "right 0.9\n"
     ]
    }
   ],
   "source": [
    "find_clearance('input/human_corridor_2.txt')"
   ]
  },
  {
   "cell_type": "code",
   "execution_count": null,
   "metadata": {},
   "outputs": [],
   "source": []
  }
 ],
 "metadata": {
  "kernelspec": {
   "display_name": "Python 3",
   "language": "python",
   "name": "python3"
  },
  "language_info": {
   "codemirror_mode": {
    "name": "ipython",
    "version": 3
   },
   "file_extension": ".py",
   "mimetype": "text/x-python",
   "name": "python",
   "nbconvert_exporter": "python",
   "pygments_lexer": "ipython3",
   "version": "3.6.7"
  }
 },
 "nbformat": 4,
 "nbformat_minor": 2
}
