{
 "cells": [
  {
   "cell_type": "code",
   "execution_count": 2,
   "metadata": {},
   "outputs": [],
   "source": [
    "import cv2\n",
    "import numpy as np\n",
    "import sys"
   ]
  },
  {
   "cell_type": "code",
   "execution_count": 9,
   "metadata": {},
   "outputs": [],
   "source": [
    "def find_path(depth):\n",
    "    # # Loading the Depth Image\n",
    "    image = np.loadtxt(depth)\n",
    "    # # Rescaling the depth image to 8 bit range\n",
    "    image *= 256/image.max()\n",
    "    # # Thresholding the image values to eliminate noise\n",
    "    image[image>40] = 255\n",
    "    # # Converting the Image to 8bit int format\n",
    "    image = np.array(image, dtype='uint8')\n",
    "    # # Creating a copy of the image for computations with out any modification\n",
    "    # # to the depth image\n",
    "    image_copy = image\n",
    "    # # Blurring the image with a kernal of 7x7\n",
    "    image = cv2.GaussianBlur(image,(7,7),0)\n",
    "    # # Creating a person classifier with the trained xml file\n",
    "    person_cascade = cv2.CascadeClassifier('cascad.xml')\n",
    "    # # Itentifying humans in the image\n",
    "    rects = person_cascade.detectMultiScale(image, 1.1, 5, 0)\n",
    "    # # Getting the x,y,w,h for the box around humans\n",
    "    for (x, y, w, h) in rects:\n",
    "        count = 0\n",
    "        avg = 0\n",
    "        # # Computing the x axis point of the human in the image\n",
    "        human_depth_coor = int((x+x+w)/2)\n",
    "        # # Iterating through the height of the human to get the average depth value\n",
    "        for a in range(y,y+h):\n",
    "            if image_copy[a][human_depth_coor] > 20 and image_copy[a][human_depth_coor] < 30:\n",
    "                count += 1\n",
    "                avg = (avg + image_copy[a][int((x+x+w)/2)])\n",
    "        human_depth_value = avg/count\n",
    "        # # Iterating Through the x asis of the image with y as the center point of human\n",
    "        dist_calc = []\n",
    "        wall_pixal = 0\n",
    "        for b in range(image.shape[1]):\n",
    "            # # Getting the pixels on the wall and shelve in front and back of the humans\n",
    "            if image_copy[int((y+y+h)/2)][b] >= (human_depth_value-1) and image_copy[int((y+y+h)/2)][b] <= (human_depth_value+1) and not b in range(x,x+w):\n",
    "                dist_calc.append(b)\n",
    "            # # To get the distance between human and wall\n",
    "            if image_copy[int((y+y+h)/2)][b] == human_depth_value and not b in range(0,x+w):\n",
    "                wall_pixal = b\n",
    "        # # To get the length of the coridor in pixal values\n",
    "        pixel_width_coridor = max(dist_calc)-min(dist_calc)\n",
    "        distance_human = 2\n",
    "        actual_width_coridor = 1.5\n",
    "\n",
    "        # # Computing the focal length\n",
    "        focal_length = (pixel_width_coridor * distance_human)/actual_width_coridor\n",
    "\n",
    "        # # Converting the distance between human and wall in pixals\n",
    "        distance_wall_human_pixal = wall_pixal - human_depth_coor\n",
    "        # # Converting the distance between human and wall in meters\n",
    "        distance_wall_human = (distance_wall_human_pixal * distance_human)/focal_length\n",
    "        # # Thresholding the path as left or right\n",
    "        if(distance_wall_human > 0.75):\n",
    "            print('right ' + str(distance_wall_human))\n",
    "        else:\n",
    "            print('left ' + str(1.5-distance_wall_human))\n",
    "        # # Drawing a box around the human\n",
    "        cv2.rectangle(image_copy, (x,y), (x+w,y+h),(0,255,0),2)\n",
    "    # # Displaying the image\n",
    "    cv2.imshow('image',image_copy)"
   ]
  },
  {
   "cell_type": "code",
   "execution_count": 10,
   "metadata": {},
   "outputs": [
    {
     "name": "stdout",
     "output_type": "stream",
     "text": [
      "left 81.0\n"
     ]
    }
   ],
   "source": [
    "find_path(\"input/human_corridor_0.txt\")"
   ]
  },
  {
   "cell_type": "code",
   "execution_count": null,
   "metadata": {},
   "outputs": [],
   "source": []
  }
 ],
 "metadata": {
  "kernelspec": {
   "display_name": "Python 3",
   "language": "python",
   "name": "python3"
  },
  "language_info": {
   "codemirror_mode": {
    "name": "ipython",
    "version": 3
   },
   "file_extension": ".py",
   "mimetype": "text/x-python",
   "name": "python",
   "nbconvert_exporter": "python",
   "pygments_lexer": "ipython3",
   "version": "3.6.7"
  }
 },
 "nbformat": 4,
 "nbformat_minor": 2
}
