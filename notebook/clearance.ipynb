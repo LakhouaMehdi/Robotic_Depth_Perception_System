{
 "cells": [
  {
   "cell_type": "code",
   "execution_count": 1,
   "metadata": {},
   "outputs": [],
   "source": [
    "from scipy import interpolate\n",
    "from scipy import signal\n",
    "from scipy.signal import find_peaks\n",
    "import numpy as np\n",
    "import peakutils\n",
    "import sys\n",
    "import warnings\n",
    "warnings.simplefilter(\"ignore\")"
   ]
  },
  {
   "cell_type": "code",
   "execution_count": 2,
   "metadata": {},
   "outputs": [],
   "source": [
    "class find_clearance:\n",
    "    \"\"\"\n",
    "    Finds the roots with the polynomial for each y intercept.\n",
    "    @yToFind y-intercept\n",
    "    @y y values for the polynomial\n",
    "    @x x values for the polynomial\n",
    "    \"\"\"\n",
    "    @staticmethod\n",
    "    def findYIntercepts(yToFind, y,x):\n",
    "        yreduced = np.array(y) - yToFind\n",
    "        freduced = interpolate.UnivariateSpline(x, yreduced, s=0)\n",
    "        return freduced.roots()\n",
    "    \"\"\"\n",
    "    Sums the width of every pair of points\n",
    "    @points the list of points of the y intercept with the binomial for which to calculate their gap.\n",
    "    \"\"\"\n",
    "    @staticmethod\n",
    "    def sumPointPairWidths(points):\n",
    "        # Need at least 2 binomials or 4 points to compare their clearance\n",
    "        assert len(points)>=4\n",
    "        widthSum=0\n",
    "\n",
    "        points=points[1:]\n",
    "        points=points[:-1]\n",
    "        for pointTuple in zip(points[::2], points[1::2]):\n",
    "            widthSum+=(pointTuple[1]-pointTuple[0])\n",
    "        return widthSum\n",
    "    \"\"\"\n",
    "    Checks if a peak array is inside a potential solution space\n",
    "    @points list that is even numbered and contains the intercepting pairs of y with the binomials\n",
    "    @peaks the list of peak points for each binomial. maxima for that binomial\n",
    "    \"\"\"\n",
    "    @staticmethod\n",
    "    def isPeakInWidthPair(points, peaks):\n",
    "        assert len(points)%2==0\n",
    "        assert len(points)/2==len(peaks)\n",
    "\n",
    "        #peaks are ordered and points to map them 1 to 1\n",
    "        points=sorted(points)\n",
    "        peaks=sorted(peaks)\n",
    "        for idx,pointTuple in enumerate(zip(points[::2], points[1::2])):\n",
    "            if not (peaks[idx]>pointTuple[0] and pointTuple[1]>peaks[idx]):\n",
    "                return False\n",
    "        return True\n",
    "\n",
    "\n",
    "    \"\"\"\n",
    "    Avoid using signal to calculate clearance distance because the distance of the person is already off from what was described.\n",
    "    Hence I pre-calculate it, less robust but can expand for a generic scenario\n",
    "    @x number of pixels to an estimation of distance for the clearance problem ONLY\n",
    "    \"\"\"\n",
    "    @staticmethod\n",
    "    def calculatePerspectiveDistance(x):\n",
    "        coeff=0.02272727272\n",
    "        return coeff*x\n",
    "    \"\"\"\n",
    "    Given the path of an image, print the clearance and to left or right side.\n",
    "    @img path to the image file\n",
    "    \"\"\"\n",
    "    @staticmethod\n",
    "    def calculate(img):\n",
    "        data=np.loadtxt(img)\n",
    "\n",
    "        humanMaxDistance=4\n",
    "        humanMinDistance=3\n",
    "        tmp=(data>humanMinDistance)\n",
    "        tmp1=(data<humanMaxDistance)\n",
    "        dataContrasted=np.logical_and(tmp,tmp1).astype(int)\n",
    "\n",
    "        #Convert to a signal for easier processing\n",
    "        x=dataContrasted.sum(axis=0)[:]\n",
    "        #Find peaks of the signal\n",
    "        peaks, _ = find_peaks(x)\n",
    "\n",
    "        xFiltered=signal.savgol_filter(x, 19, 4)\n",
    "        cb = np.array(xFiltered)\n",
    "\n",
    "        indexes = peakutils.indexes(cb, thres=0.02/max(cb), min_dist=10)\n",
    "        try:\n",
    "            peaks=sorted(zip(xFiltered[indexes],indexes),key=lambda a : a[0], reverse=True)[:3]\n",
    "        except:\n",
    "            print(\"Obstacle could not be detected. Human either too close to the wall, or at a different distance than the one specified.\")\n",
    "            return;\n",
    "        # peaks of filtered signal\n",
    "        peaks = [xFiltered[1] for xFiltered in peaks]\n",
    "\n",
    "\n",
    "\n",
    "\n",
    "        # Store the problem space solutions\n",
    "        widthSums=[]\n",
    "        # Search for all Y-intercepts to find the ones that belong to the problem space (e.g. the ones that consider left wall, human and right wall)\n",
    "        #left and right wall\n",
    "        walls=2\n",
    "        #one obstacle the human\n",
    "        obstacle=1\n",
    "        # Binomial from the signal interpolate since objects are considered infentely tall and 2d from bird's eye perspective\n",
    "        polynomial=2\n",
    "        for i in np.linspace(0,len(x),len(x)):\n",
    "            #find intercepts on the original signal for higher accuracy\n",
    "            intercepts=find_clearance.findYIntercepts(i,x,range(0,len(x)))\n",
    "            # Try to reduce problem space by only checking the intercepts for which there is a binomial for each obstacle\n",
    "            # Check if the peak belongs to the problem space.\n",
    "            if(len(intercepts)==(walls*polynomial+obstacle*polynomial) and find_clearance.isPeakInWidthPair(intercepts, peaks) ):\n",
    "                widthSums.append({\"sum\":find_clearance.sumPointPairWidths(intercepts),\"y\":i,\"x\":intercepts})\n",
    "\n",
    "        #get the intercept from the problem space that minimizes the clearance (Worst case scenario for clearance)\n",
    "        if(len(widthSums)==0):\n",
    "            print(\"Obstacles detected but probably not wall-human-wall or human is not in the right distance.\")\n",
    "            return\n",
    "        intercepts=sorted(widthSums,key=lambda a : a[\"sum\"], )[:1][0][\"x\"]\n",
    "\n",
    "\n",
    "        # D1 is difference between where the human starts and the left wall ends\n",
    "        d1=find_clearance.calculatePerspectiveDistance(intercepts[2]-intercepts[1])\n",
    "\n",
    "        # D2 is difference between where the human ends and the left wall starts\n",
    "        d2=find_clearance.calculatePerspectiveDistance(intercepts[4]-intercepts[3])\n",
    "\n",
    "        if(d1>d2):\n",
    "            print(\"left %fm\"%d1)\n",
    "        else:\n",
    "            print(\"right %fm\"%d2)"
   ]
  },
  {
   "cell_type": "code",
   "execution_count": 3,
   "metadata": {},
   "outputs": [
    {
     "name": "stdout",
     "output_type": "stream",
     "text": [
      "left 0.666725m\n"
     ]
    }
   ],
   "source": [
    "find_clearance.calculate(\"input/human_corridor_0.txt\")"
   ]
  },
  {
   "cell_type": "code",
   "execution_count": 4,
   "metadata": {},
   "outputs": [
    {
     "name": "stdout",
     "output_type": "stream",
     "text": [
      "left 0.545606m\n"
     ]
    }
   ],
   "source": [
    "find_clearance.calculate(\"input/human_corridor_1.txt\")"
   ]
  },
  {
   "cell_type": "code",
   "execution_count": 5,
   "metadata": {},
   "outputs": [
    {
     "name": "stdout",
     "output_type": "stream",
     "text": [
      "right 0.857274m\n"
     ]
    }
   ],
   "source": [
    "find_clearance.calculate(\"input/human_corridor_2.txt\")"
   ]
  },
  {
   "cell_type": "code",
   "execution_count": null,
   "metadata": {},
   "outputs": [],
   "source": []
  }
 ],
 "metadata": {
  "kernelspec": {
   "display_name": "Python 3",
   "language": "python",
   "name": "python3"
  },
  "language_info": {
   "codemirror_mode": {
    "name": "ipython",
    "version": 3
   },
   "file_extension": ".py",
   "mimetype": "text/x-python",
   "name": "python",
   "nbconvert_exporter": "python",
   "pygments_lexer": "ipython3",
   "version": "3.6.7"
  }
 },
 "nbformat": 4,
 "nbformat_minor": 2
}
